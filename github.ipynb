{
 "cells": [
  {
   "cell_type": "code",
   "execution_count": 1,
   "id": "542dfd97-b782-454e-bb17-07dbb400d7a4",
   "metadata": {},
   "outputs": [
    {
     "data": {
      "application/vnd.jupyter.widget-view+json": {
       "model_id": "215960736da24feb9fb047791ccb162e",
       "version_major": 2,
       "version_minor": 0
      },
      "text/plain": [
       "VBox(children=(Password(description='Token GitHub:'), Text(value='', description='Utilisateur:')))"
      ]
     },
     "metadata": {},
     "output_type": "display_data"
    },
    {
     "data": {
      "application/vnd.jupyter.widget-view+json": {
       "model_id": "578ee09d248247898a0ae590ce402bd5",
       "version_major": 2,
       "version_minor": 0
      },
      "text/plain": [
       "Button(button_style='success', description='Se connecter', style=ButtonStyle())"
      ]
     },
     "metadata": {},
     "output_type": "display_data"
    },
    {
     "data": {
      "application/vnd.jupyter.widget-view+json": {
       "model_id": "b148427e75a646f5b08855172fe2df78",
       "version_major": 2,
       "version_minor": 0
      },
      "text/plain": [
       "Output()"
      ]
     },
     "metadata": {},
     "output_type": "display_data"
    }
   ],
   "source": [
    "from github import Github, GithubException\n",
    "import ipywidgets as widgets\n",
    "from IPython.display import display, clear_output, Markdown\n",
    "\n",
    "# ----------- Saisie sécurisée du token GitHub ----------- #\n",
    "token_input = widgets.Password(description=\"Token GitHub:\")\n",
    "username_input = widgets.Text(description=\"Utilisateur:\")\n",
    "\n",
    "display(widgets.VBox([token_input, username_input]))\n",
    "\n",
    "connect_button = widgets.Button(description=\"Se connecter\", button_style='success')\n",
    "output_connect = widgets.Output()\n",
    "\n",
    "# ----------- Interface principale après connexion ----------- #\n",
    "def display_repo_explorer(g):\n",
    "    user = g.get_user()\n",
    "    repos = list(user.get_repos())\n",
    "\n",
    "    repo_dropdown = widgets.Dropdown(\n",
    "        options=[(repo.full_name, repo.full_name) for repo in repos],\n",
    "        description=\"Dépôt:\",\n",
    "        layout=widgets.Layout(width='600px')\n",
    "    )\n",
    "\n",
    "    explore_button = widgets.Button(description=\"Explorer le dépôt\", button_style='primary')\n",
    "    file_dropdown = widgets.Dropdown(description=\"Fichier:\", layout=widgets.Layout(width='600px'))\n",
    "    output_explore = widgets.Output()\n",
    "    output_file_content = widgets.Output()  # ⬅️ Zone dédiée au contenu du fichier\n",
    "\n",
    "    def get_all_files(repo, path=\"\", ref=\"main\", files=None):\n",
    "        if files is None:\n",
    "            files = []\n",
    "        try:\n",
    "            contents = repo.get_contents(path, ref)\n",
    "            for content in contents:\n",
    "                if content.type == \"dir\":\n",
    "                    get_all_files(repo, content.path, ref, files)\n",
    "                elif content.type == \"file\":\n",
    "                    files.append(content.path)\n",
    "        except GithubException as e:\n",
    "            print(f\"⚠️ Erreur d'accès à {path} : {e.data.get('message', 'Inconnue')}\")\n",
    "        return files\n",
    "\n",
    "    def explore_repo(_):\n",
    "        with output_explore:\n",
    "            clear_output()\n",
    "            try:\n",
    "                repo = g.get_repo(repo_dropdown.value)\n",
    "                branch = repo.default_branch\n",
    "                display(Markdown(f\"### 📦 Dépôt : `{repo.full_name}` — Branche : `{branch}`\"))\n",
    "                all_files = get_all_files(repo, \"\", branch)\n",
    "                if not all_files:\n",
    "                    print(\"Ce dépôt ne contient aucun fichier.\")\n",
    "                file_dropdown.options = all_files\n",
    "            except GithubException as e:\n",
    "                print(f\"❌ Erreur : {e.data.get('message', 'Inconnue')}\")\n",
    "\n",
    "    def on_file_selected(change):\n",
    "        with output_file_content:\n",
    "            clear_output(wait=True)\n",
    "            try:\n",
    "                repo = g.get_repo(repo_dropdown.value)\n",
    "                branch = repo.default_branch\n",
    "                file_path = change['new']\n",
    "                file_content = repo.get_contents(file_path, branch)\n",
    "                decoded = file_content.decoded_content.decode(\"utf-8\")\n",
    "\n",
    "                display(Markdown(f\"### 📄 Contenu de `{file_path}`\"))\n",
    "                print(f\"🧾 Taille : {file_content.size} octets\\n\")\n",
    "                if file_path.endswith(\".md\"):\n",
    "                    display(Markdown(decoded))\n",
    "                else:\n",
    "                    print(decoded)\n",
    "            except GithubException as e:\n",
    "                print(f\"⚠️ Erreur lors de l'accès à {file_path} : {e.data.get('message', 'Inconnue')}\")\n",
    "\n",
    "    explore_button.on_click(explore_repo)\n",
    "    file_dropdown.observe(on_file_selected, names='value')\n",
    "\n",
    "    display(widgets.VBox([\n",
    "        repo_dropdown,\n",
    "        explore_button,\n",
    "        output_explore,\n",
    "        file_dropdown,           # ⬅️ Toujours visible\n",
    "        output_file_content      # ⬅️ Zone dédiée au contenu\n",
    "    ]))\n",
    "\n",
    "# ----------- Connexion GitHub ----------- #\n",
    "def connect_to_github(_):\n",
    "    output_connect.clear_output()\n",
    "    with output_connect:\n",
    "        try:\n",
    "            g = Github(token_input.value)\n",
    "            user = g.get_user()\n",
    "            if user.login.lower() != username_input.value.lower():\n",
    "                print(f\"❌ Token valide mais associé à : {user.login}\")\n",
    "            else:\n",
    "                print(f\"✅ Connecté avec succès : {user.login}\")\n",
    "                display_repo_explorer(g)\n",
    "        except GithubException as e:\n",
    "            print(f\"Erreur d'authentification : {e.data.get('message', 'Inconnue')}\")\n",
    "\n",
    "connect_button.on_click(connect_to_github)\n",
    "display(connect_button, output_connect)"
   ]
  },
  {
   "cell_type": "code",
   "execution_count": null,
   "id": "e0eb4832-cbb3-4fbd-b7fa-649a4642f2f0",
   "metadata": {},
   "outputs": [],
   "source": []
  }
 ],
 "metadata": {
  "kernelspec": {
   "display_name": "Python 3 (ipykernel)",
   "language": "python",
   "name": "python3"
  },
  "language_info": {
   "codemirror_mode": {
    "name": "ipython",
    "version": 3
   },
   "file_extension": ".py",
   "mimetype": "text/x-python",
   "name": "python",
   "nbconvert_exporter": "python",
   "pygments_lexer": "ipython3",
   "version": "3.10.11"
  }
 },
 "nbformat": 4,
 "nbformat_minor": 5
}
